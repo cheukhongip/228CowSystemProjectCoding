{
 "cells": [
  {
   "cell_type": "code",
   "execution_count": 3,
   "id": "83140733-8e88-40eb-8ad9-d90d11e5dd28",
   "metadata": {},
   "outputs": [],
   "source": [
    "import pandas as pd\n",
    "data = pd.read_csv('measurementnew.csv', index_col=False, delimiter = ',')\n",
    "data.dtypes\n",
    "#replace nan to None\n",
    "data=data.where((pd.notnull(data)), None)"
   ]
  },
  {
   "cell_type": "code",
   "execution_count": 4,
   "id": "9fc48018-0ec3-4db0-934e-0ff7c557c497",
   "metadata": {},
   "outputs": [
    {
     "name": "stdin",
     "output_type": "stream",
     "text": [
      "Enter password:  ···········\n"
     ]
    },
    {
     "name": "stdout",
     "output_type": "stream",
     "text": [
      "1062 (23000): Duplicate entry '1-1-0' for key 'measurement.PRIMARY'\n"
     ]
    }
   ],
   "source": [
    "import mysql.connector \n",
    "import pandas as pd\n",
    "from getpass import getpass\n",
    "from mysql.connector import connect, Error\n",
    "try:\n",
    "    with connect(\n",
    "        host=\"localhost\",\n",
    "        user=\"root\",\n",
    "        password=getpass(\"Enter password: \"),\n",
    "        auth_plugin='mysql_native_password',\n",
    "        database='DataJob2'\n",
    "    ) as connection:\n",
    "        with connection.cursor() as cursor:\n",
    "            for i,row in data.iterrows():\n",
    "                sql = \"INSERT INTO DataJob2.measurement VALUES (%s,%s,%s)\"\n",
    "                cursor.execute(sql, tuple(row))\n",
    "                connection.commit()\n",
    "            print(\"Record inserted\")\n",
    "except Error as e:\n",
    "    print(e)"
   ]
  }
 ],
 "metadata": {
  "kernelspec": {
   "display_name": "Python 3",
   "language": "python",
   "name": "python3"
  },
  "language_info": {
   "codemirror_mode": {
    "name": "ipython",
    "version": 3
   },
   "file_extension": ".py",
   "mimetype": "text/x-python",
   "name": "python",
   "nbconvert_exporter": "python",
   "pygments_lexer": "ipython3",
   "version": "3.9.4"
  }
 },
 "nbformat": 4,
 "nbformat_minor": 5
}
